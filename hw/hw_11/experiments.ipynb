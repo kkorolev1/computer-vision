{
 "cells": [
  {
   "cell_type": "code",
   "execution_count": 91,
   "metadata": {},
   "outputs": [],
   "source": [
    "import torch\n",
    "import torch.nn as nn\n",
    "import torch.optim as optim\n",
    "from torchvision.models import mobilenet_v2, resnet18\n",
    "import torchvision.transforms as T\n",
    "from torch.utils.data import TensorDataset, DataLoader, Dataset\n",
    "\n",
    "import numpy as np\n",
    "\n",
    "from sklearn.metrics import accuracy_score"
   ]
  },
  {
   "cell_type": "code",
   "execution_count": 2,
   "metadata": {},
   "outputs": [],
   "source": [
    "CUDA = 0\n",
    "\n",
    "def get_cls_model(input_shape):\n",
    "    \"\"\"\n",
    "    :param input_shape: tuple (n_rows, n_cols, n_channels)\n",
    "            input shape of image for classification\n",
    "    :return: nn model for classification\n",
    "    \"\"\"\n",
    "    device = torch.device(f'cuda:{CUDA}' if torch.cuda.is_available() else 'cpu')\n",
    "    model = mobilenet_v2(pretrained=False)\n",
    "    \n",
    "    downsample_coef = 224 * 224 // 1280\n",
    "    fc_size = input_shape[0] * input_shape[1] * input_shape[2] // downsample_coef\n",
    "    \n",
    "    model.features[0][0] = nn.Conv2d(1, 32, kernel_size=(3, 3), stride=(2, 2), padding=(1, 1), bias=False)\n",
    "    model.classifier = nn.Sequential(\n",
    "        #nn.Linear(1280, 512),\n",
    "        #nn.BatchNorm1d(512),\n",
    "        #nn.ReLU(),\n",
    "        #nn.Linear(512, 256),\n",
    "        #nn.BatchNorm1d(256),\n",
    "        #nn.ReLU(),\n",
    "        nn.Linear(1280, 2)\n",
    "    )\n",
    "    model = model.to(device)\n",
    "    return model"
   ]
  },
  {
   "cell_type": "code",
   "execution_count": 3,
   "metadata": {},
   "outputs": [],
   "source": [
    "from sklearn.model_selection import train_test_split\n",
    "import os"
   ]
  },
  {
   "cell_type": "code",
   "execution_count": 4,
   "metadata": {},
   "outputs": [],
   "source": [
    "data = np.load('tests/00_unittest_classifier_input/train_data.npz')\n",
    "X = data['X'].reshape(-1, 1, 40, 100)   #pytorch dimensions are (N, C, H, W)\n",
    "y = data['y'].astype(np.int64)\n",
    "\n",
    "X_train, X_test, y_train, y_test = train_test_split(X, y, test_size = 0.25)\n",
    "X_train, X_test = torch.from_numpy(X_train), torch.from_numpy(X_test)\n",
    "y_train, y_test = torch.from_numpy(y_train), torch.from_numpy(y_test)"
   ]
  },
  {
   "cell_type": "code",
   "execution_count": 8,
   "metadata": {},
   "outputs": [],
   "source": [
    "from tqdm.notebook import tqdm\n",
    "\n",
    "class SaveBestModel:\n",
    "    def __init__(self, best_val_loss=np.inf):\n",
    "        self.best_val_loss = best_val_loss\n",
    "        \n",
    "    def __call__(self, val_loss, epoch, model, optimizer, scheduler=None, model_path='model/best_model.pth'):\n",
    "        if val_loss < self.best_val_loss:\n",
    "            self.best_val_loss = val_loss\n",
    "            torch.save({\n",
    "                'epoch': epoch,\n",
    "                'model_state_dict': model.state_dict(),\n",
    "                'optimizer_state_dict': optimizer.state_dict(),\n",
    "                'scheduler_state_dict': scheduler.state_dict() if scheduler else {}\n",
    "                }, model_path\n",
    "            )\n",
    "            print('New best model with loss {:.5f} is saved'.format(val_loss))\n",
    "\n",
    "def save_model(epoch, model, optimizer, model_path='model/final_model.pth'):\n",
    "    torch.save({\n",
    "                'epoch': epoch,\n",
    "                'model_state_dict': model.state_dict(),\n",
    "                'optimizer_state_dict': optimizer.state_dict()\n",
    "                }, model_path\n",
    "    )\n",
    "    print('Model is saved')\n",
    "    \n",
    "def load_model(model, optimizer, scheduler=None, model_path='model/best_model.pth'):\n",
    "    checkpoint = torch.load(model_path)\n",
    "    model.load_state_dict(checkpoint['model_state_dict'])\n",
    "    optimizer.load_state_dict(checkpoint['optimizer_state_dict'])\n",
    "    epoch = checkpoint['epoch']\n",
    "    \n",
    "    if scheduler:\n",
    "        scheduler.load_state_dict(checkpoint['scheduler_state_dict'])\n",
    "\n",
    "    return model, optimizer, epoch, scheduler\n",
    "\n",
    "            \n",
    "def train_epoch(model, optimizer, criterion, train_loader, device, tqdm_desc):\n",
    "    model.train()\n",
    "    train_acc, train_loss = 0.0, 0.0\n",
    "\n",
    "    for images, labels in tqdm(train_loader, desc=tqdm_desc):\n",
    "        images = images.to(device)\n",
    "        labels = labels.to(device)\n",
    "\n",
    "        optimizer.zero_grad()\n",
    "\n",
    "        logits = model(images)\n",
    "        loss = criterion(logits, labels)\n",
    "\n",
    "        loss.backward()\n",
    "        optimizer.step()\n",
    "\n",
    "        train_acc += (logits.argmax(dim=1) == labels).sum().item()\n",
    "        train_loss += loss.item() * labels.shape[0]\n",
    "\n",
    "    train_acc /= len(train_loader.dataset)\n",
    "    train_loss /= len(train_loader.dataset)\n",
    "\n",
    "    return train_acc, train_loss\n",
    "\n",
    "\n",
    "@torch.no_grad()\n",
    "def val_epoch(model, criterion, val_loader, device, tqdm_desc):\n",
    "    model.eval()\n",
    "    val_acc, val_loss = 0.0, 0.0\n",
    "\n",
    "    for images, labels in tqdm(val_loader, desc=tqdm_desc):\n",
    "        images = images.to(device)\n",
    "        labels = labels.to(device)\n",
    "\n",
    "        logits = model(images)\n",
    "        loss = criterion(logits, labels)\n",
    "\n",
    "        val_acc += (logits.argmax(dim=1) == labels).sum().item()\n",
    "        val_loss += loss.item() * labels.shape[0]\n",
    "\n",
    "    val_acc /= len(val_loader.dataset)\n",
    "    val_loss /= len(val_loader.dataset)\n",
    "\n",
    "    return val_acc, val_loss\n",
    "\n",
    "\n",
    "def train(model, optimizer, criterion, scheduler, train_loader, val_loader, device, num_epochs, model_saver, continue_training=True, model_path='model/best_model.pth', start_epoch=0):\n",
    "    \n",
    "    if continue_training:\n",
    "        model, optimizer, start_epoch, scheduler = load_model(model, optimizer, scheduler, model_path)\n",
    "    \n",
    "    for epoch in range(start_epoch + 1, num_epochs + 1):\n",
    "        train_acc, train_loss = train_epoch(model, optimizer, criterion, train_loader, device, f'Training epoch {epoch}/{num_epochs}')\n",
    "        val_acc, val_loss = val_epoch(model, criterion, val_loader, device, f'Validating epoch {epoch}/{num_epochs}')\n",
    "\n",
    "        if scheduler is not None:\n",
    "            scheduler.step(val_loss)\n",
    "        \n",
    "        print({'train_loss': train_loss, 'train_acc': train_acc, 'val_loss': val_loss, 'val_acc': val_acc})\n",
    "        model_saver(val_loss, epoch, model, optimizer, scheduler, model_path)\n"
   ]
  },
  {
   "cell_type": "code",
   "execution_count": 439,
   "metadata": {},
   "outputs": [
    {
     "name": "stderr",
     "output_type": "stream",
     "text": [
      "C:\\Users\\kirill-korolev\\anaconda3\\lib\\site-packages\\torchvision\\models\\_utils.py:208: UserWarning: The parameter 'pretrained' is deprecated since 0.13 and may be removed in the future, please use 'weights' instead.\n",
      "  warnings.warn(\n",
      "C:\\Users\\kirill-korolev\\anaconda3\\lib\\site-packages\\torchvision\\models\\_utils.py:223: UserWarning: Arguments other than a weight enum or `None` for 'weights' are deprecated since 0.13 and may be removed in the future. The current behavior is equivalent to passing `weights=None`.\n",
      "  warnings.warn(msg)\n"
     ]
    },
    {
     "data": {
      "text/plain": [
       "0.9885931558935361"
      ]
     },
     "execution_count": 439,
     "metadata": {},
     "output_type": "execute_result"
    }
   ],
   "source": [
    "CUDA = 0\n",
    "\n",
    "class ClassificationModel(nn.Module):\n",
    "    def __init__(self):\n",
    "        super().__init__()\n",
    "        \n",
    "        device = torch.device(f'cuda:{CUDA}' if torch.cuda.is_available() else 'cpu')\n",
    "        model = resnet18(pretrained=False)\n",
    "\n",
    "        model.conv1 = nn.Conv2d(in_channels=1, out_channels=64, kernel_size=7, stride=2, padding=3, bias=False)\n",
    "        model.avgpool = nn.Identity()\n",
    "        model.fc = nn.Sequential(\n",
    "            nn.Linear(4096, 2),\n",
    "            #nn.BatchNorm1d(256),\n",
    "            #nn.ReLU(),\n",
    "            #nn.Linear(256, 128),\n",
    "            #nn.BatchNorm1d(128),\n",
    "            #nn.ReLU(),\n",
    "            #nn.Linear(128, 2)\n",
    "        )\n",
    "        \n",
    "        model = model.to(device)\n",
    "        self.model = model\n",
    "        \n",
    "        \n",
    "    def forward(self, x):\n",
    "        x = self.model.conv1(x)\n",
    "        x = self.model.bn1(x)\n",
    "        x = self.model.relu(x)\n",
    "        x = self.model.maxpool(x)\n",
    "        x = self.model.layer1(x)\n",
    "        x = self.model.layer2(x)\n",
    "        x = self.model.layer3(x)\n",
    "        x = self.model.layer4(x)\n",
    "        x = self.model.avgpool(x)\n",
    "        x = torch.flatten(x, 1)\n",
    "        x = self.model.fc(x)\n",
    "\n",
    "        return x\n",
    "    \n",
    "def get_cls_model(input_shape):\n",
    "    \"\"\"\n",
    "    :param input_shape: tuple (n_rows, n_cols, n_channels)\n",
    "            input shape of image for classification\n",
    "    :return: nn model for classification\n",
    "    \"\"\"\n",
    "    device = torch.device(f'cuda:{CUDA}' if torch.cuda.is_available() else 'cpu')\n",
    "    return ClassificationModel()\n",
    "\n",
    "\n",
    "def train_epoch(model, optimizer, criterion, train_loader, device):\n",
    "    model.train()\n",
    "    train_acc, train_loss = 0.0, 0.0\n",
    "\n",
    "    for images, labels in train_loader:\n",
    "        images = images.to(device)\n",
    "        labels = labels.to(device)\n",
    "\n",
    "        optimizer.zero_grad()\n",
    "\n",
    "        logits = model(images)\n",
    "        loss = criterion(logits, labels)\n",
    "\n",
    "        loss.backward()\n",
    "        optimizer.step()\n",
    "\n",
    "        train_acc += (logits.argmax(dim=1) == labels).sum().item()\n",
    "        train_loss += loss.item() * labels.shape[0]\n",
    "\n",
    "    train_acc /= len(train_loader.dataset)\n",
    "    train_loss /= len(train_loader.dataset)\n",
    "\n",
    "    return train_acc, train_loss\n",
    "\n",
    "\n",
    "def train(model, optimizer, criterion, scheduler, train_loader, device, num_epochs):\n",
    "\n",
    "    for epoch in range(1, num_epochs + 1):\n",
    "        train_acc, train_loss = train_epoch(model, optimizer, criterion, train_loader, device)\n",
    "\n",
    "        if scheduler is not None:\n",
    "            scheduler.step()\n",
    "\n",
    "\n",
    "def fit_cls_model(X, y):\n",
    "    \"\"\"\n",
    "    :param X: 4-dim tensor with training images\n",
    "    :param y: 1-dim tensor with labels for training\n",
    "    :return: trained nn model\n",
    "    \"\"\"\n",
    "    # your code here \\/\n",
    "    model = get_cls_model((40, 100, 1))\n",
    "\n",
    "    train_transform = T.Compose([\n",
    "        T.RandomHorizontalFlip(),\n",
    "        #T.RandomRotation((-5,5)),\n",
    "        T.Normalize(mean=0.5, std=0.5),\n",
    "    ])\n",
    "\n",
    "    batch_size = 32\n",
    "\n",
    "    train_dataset = TensorDataset(train_transform(X), y)\n",
    "    train_dataloader = DataLoader(train_dataset, batch_size=batch_size, shuffle=True)\n",
    "\n",
    "    optimizer = optim.Adam(model.parameters(), lr=1e-3)\n",
    "    criterion = nn.CrossEntropyLoss()\n",
    "    scheduler = None\n",
    "\n",
    "    n_epochs = 10\n",
    "    device = torch.device(f'cuda:{CUDA}' if torch.cuda.is_available() else 'cpu')\n",
    "\n",
    "    train(model, optimizer, criterion, scheduler, train_dataloader, device, n_epochs)\n",
    "\n",
    "    return model.cpu()\n",
    "\n",
    "model = fit_cls_model(X_train, y_train)\n",
    "y_predicted = torch.argmax(model.cpu()(X_test), dim=1)\n",
    "accuracy_score(y_test, y_predicted)"
   ]
  },
  {
   "cell_type": "code",
   "execution_count": 345,
   "metadata": {},
   "outputs": [],
   "source": [
    "#torch.save(model, 'classifier_model.pth')"
   ]
  },
  {
   "cell_type": "code",
   "execution_count": 440,
   "metadata": {},
   "outputs": [],
   "source": [
    "import copy\n",
    "\n",
    "def linear_to_conv(layer):\n",
    "    out_channels = 2\n",
    "    in_channels = 512\n",
    "    kernel_size = (2, 4)\n",
    "    \n",
    "    weights = layer.state_dict()['weight'][:].view(out_channels, in_channels, kernel_size[0], kernel_size[1])\n",
    "    bias = layer.state_dict()['bias'][:]\n",
    "\n",
    "    conv = nn.Conv2d(in_channels=512, out_channels=2, kernel_size=kernel_size, bias=True)\n",
    "    conv.state_dict()['weight'][:] = weights\n",
    "    conv.state_dict()['bias'][:] = bias\n",
    "\n",
    "    return conv\n",
    "\n",
    "class DetectionModel(nn.Module):\n",
    "    def __init__(self, cls_model):\n",
    "        super().__init__()\n",
    "        self.cls_model = copy.deepcopy(cls_model)\n",
    "        self.cls_model.model.fc[0] = linear_to_conv(self.cls_model.model.fc[0])\n",
    "        \n",
    "        \n",
    "    def forward(self, x):\n",
    "        model = self.cls_model.model\n",
    "        \n",
    "        x = model.conv1(x)\n",
    "        x = model.bn1(x)\n",
    "        x = model.relu(x)\n",
    "        x = model.maxpool(x)\n",
    "        x = model.layer1(x)\n",
    "        x = model.layer2(x)\n",
    "        x = model.layer3(x)\n",
    "        x = model.layer4(x)\n",
    "        x = model.avgpool(x)\n",
    "        \n",
    "        x = model.fc(x)\n",
    "\n",
    "        return x"
   ]
  },
  {
   "cell_type": "code",
   "execution_count": 441,
   "metadata": {},
   "outputs": [],
   "source": [
    "def get_detection_model(cls_model):\n",
    "    \"\"\"\n",
    "    :param cls_model: trained cls model\n",
    "    :return: fully convolutional nn model with weights initialized from cls\n",
    "             model\n",
    "    \"\"\"\n",
    "    return DetectionModel(cls_model).double()"
   ]
  },
  {
   "cell_type": "code",
   "execution_count": 442,
   "metadata": {},
   "outputs": [],
   "source": [
    "from common import read_for_detection"
   ]
  },
  {
   "cell_type": "code",
   "execution_count": 480,
   "metadata": {},
   "outputs": [],
   "source": [
    "test_dir = 'tests/04_unittest_detector_input/'\n",
    "img_dir = os.path.join(test_dir, 'test_imgs')\n",
    "gt_path = os.path.join(test_dir, 'true_detections.json')\n",
    "images_detection = read_for_detection(img_dir, gt_path)\n",
    "\n",
    "images_detection_no_answer = {}\n",
    "images_detection_only_bboxes = {}\n",
    "for img_name, data in images_detection.items():\n",
    "    images_detection_no_answer[img_name] = data[0]\n",
    "    images_detection_only_bboxes[img_name] = data[1]"
   ]
  },
  {
   "cell_type": "code",
   "execution_count": 493,
   "metadata": {},
   "outputs": [
    {
     "ename": "RuntimeError",
     "evalue": "mat1 and mat2 shapes cannot be multiplied (1x43008 and 4096x2)",
     "output_type": "error",
     "traceback": [
      "\u001b[1;31m---------------------------------------------------------------------------\u001b[0m",
      "\u001b[1;31mRuntimeError\u001b[0m                              Traceback (most recent call last)",
      "Input \u001b[1;32mIn [493]\u001b[0m, in \u001b[0;36m<cell line: 2>\u001b[1;34m()\u001b[0m\n\u001b[0;32m      1\u001b[0m x \u001b[38;5;241m=\u001b[39m torch\u001b[38;5;241m.\u001b[39mrandn(\u001b[38;5;241m1\u001b[39m,\u001b[38;5;241m1\u001b[39m,\u001b[38;5;241m220\u001b[39m,\u001b[38;5;241m370\u001b[39m)\u001b[38;5;241m.\u001b[39mto(device)\n\u001b[1;32m----> 2\u001b[0m \u001b[43mmodel\u001b[49m\u001b[38;5;241;43m.\u001b[39;49m\u001b[43mto\u001b[49m\u001b[43m(\u001b[49m\u001b[43mdevice\u001b[49m\u001b[43m)\u001b[49m\u001b[43m(\u001b[49m\u001b[43mx\u001b[49m\u001b[43m)\u001b[49m\n",
      "File \u001b[1;32m~\\anaconda3\\lib\\site-packages\\torch\\nn\\modules\\module.py:1190\u001b[0m, in \u001b[0;36mModule._call_impl\u001b[1;34m(self, *input, **kwargs)\u001b[0m\n\u001b[0;32m   1186\u001b[0m \u001b[38;5;66;03m# If we don't have any hooks, we want to skip the rest of the logic in\u001b[39;00m\n\u001b[0;32m   1187\u001b[0m \u001b[38;5;66;03m# this function, and just call forward.\u001b[39;00m\n\u001b[0;32m   1188\u001b[0m \u001b[38;5;28;01mif\u001b[39;00m \u001b[38;5;129;01mnot\u001b[39;00m (\u001b[38;5;28mself\u001b[39m\u001b[38;5;241m.\u001b[39m_backward_hooks \u001b[38;5;129;01mor\u001b[39;00m \u001b[38;5;28mself\u001b[39m\u001b[38;5;241m.\u001b[39m_forward_hooks \u001b[38;5;129;01mor\u001b[39;00m \u001b[38;5;28mself\u001b[39m\u001b[38;5;241m.\u001b[39m_forward_pre_hooks \u001b[38;5;129;01mor\u001b[39;00m _global_backward_hooks\n\u001b[0;32m   1189\u001b[0m         \u001b[38;5;129;01mor\u001b[39;00m _global_forward_hooks \u001b[38;5;129;01mor\u001b[39;00m _global_forward_pre_hooks):\n\u001b[1;32m-> 1190\u001b[0m     \u001b[38;5;28;01mreturn\u001b[39;00m \u001b[43mforward_call\u001b[49m\u001b[43m(\u001b[49m\u001b[38;5;241;43m*\u001b[39;49m\u001b[38;5;28;43minput\u001b[39;49m\u001b[43m,\u001b[49m\u001b[43m \u001b[49m\u001b[38;5;241;43m*\u001b[39;49m\u001b[38;5;241;43m*\u001b[39;49m\u001b[43mkwargs\u001b[49m\u001b[43m)\u001b[49m\n\u001b[0;32m   1191\u001b[0m \u001b[38;5;66;03m# Do not call functions when jit is used\u001b[39;00m\n\u001b[0;32m   1192\u001b[0m full_backward_hooks, non_full_backward_hooks \u001b[38;5;241m=\u001b[39m [], []\n",
      "Input \u001b[1;32mIn [439]\u001b[0m, in \u001b[0;36mClassificationModel.forward\u001b[1;34m(self, x)\u001b[0m\n\u001b[0;32m     35\u001b[0m x \u001b[38;5;241m=\u001b[39m \u001b[38;5;28mself\u001b[39m\u001b[38;5;241m.\u001b[39mmodel\u001b[38;5;241m.\u001b[39mavgpool(x)\n\u001b[0;32m     36\u001b[0m x \u001b[38;5;241m=\u001b[39m torch\u001b[38;5;241m.\u001b[39mflatten(x, \u001b[38;5;241m1\u001b[39m)\n\u001b[1;32m---> 37\u001b[0m x \u001b[38;5;241m=\u001b[39m \u001b[38;5;28;43mself\u001b[39;49m\u001b[38;5;241;43m.\u001b[39;49m\u001b[43mmodel\u001b[49m\u001b[38;5;241;43m.\u001b[39;49m\u001b[43mfc\u001b[49m\u001b[43m(\u001b[49m\u001b[43mx\u001b[49m\u001b[43m)\u001b[49m\n\u001b[0;32m     39\u001b[0m \u001b[38;5;28;01mreturn\u001b[39;00m x\n",
      "File \u001b[1;32m~\\anaconda3\\lib\\site-packages\\torch\\nn\\modules\\module.py:1190\u001b[0m, in \u001b[0;36mModule._call_impl\u001b[1;34m(self, *input, **kwargs)\u001b[0m\n\u001b[0;32m   1186\u001b[0m \u001b[38;5;66;03m# If we don't have any hooks, we want to skip the rest of the logic in\u001b[39;00m\n\u001b[0;32m   1187\u001b[0m \u001b[38;5;66;03m# this function, and just call forward.\u001b[39;00m\n\u001b[0;32m   1188\u001b[0m \u001b[38;5;28;01mif\u001b[39;00m \u001b[38;5;129;01mnot\u001b[39;00m (\u001b[38;5;28mself\u001b[39m\u001b[38;5;241m.\u001b[39m_backward_hooks \u001b[38;5;129;01mor\u001b[39;00m \u001b[38;5;28mself\u001b[39m\u001b[38;5;241m.\u001b[39m_forward_hooks \u001b[38;5;129;01mor\u001b[39;00m \u001b[38;5;28mself\u001b[39m\u001b[38;5;241m.\u001b[39m_forward_pre_hooks \u001b[38;5;129;01mor\u001b[39;00m _global_backward_hooks\n\u001b[0;32m   1189\u001b[0m         \u001b[38;5;129;01mor\u001b[39;00m _global_forward_hooks \u001b[38;5;129;01mor\u001b[39;00m _global_forward_pre_hooks):\n\u001b[1;32m-> 1190\u001b[0m     \u001b[38;5;28;01mreturn\u001b[39;00m \u001b[43mforward_call\u001b[49m\u001b[43m(\u001b[49m\u001b[38;5;241;43m*\u001b[39;49m\u001b[38;5;28;43minput\u001b[39;49m\u001b[43m,\u001b[49m\u001b[43m \u001b[49m\u001b[38;5;241;43m*\u001b[39;49m\u001b[38;5;241;43m*\u001b[39;49m\u001b[43mkwargs\u001b[49m\u001b[43m)\u001b[49m\n\u001b[0;32m   1191\u001b[0m \u001b[38;5;66;03m# Do not call functions when jit is used\u001b[39;00m\n\u001b[0;32m   1192\u001b[0m full_backward_hooks, non_full_backward_hooks \u001b[38;5;241m=\u001b[39m [], []\n",
      "File \u001b[1;32m~\\anaconda3\\lib\\site-packages\\torch\\nn\\modules\\container.py:204\u001b[0m, in \u001b[0;36mSequential.forward\u001b[1;34m(self, input)\u001b[0m\n\u001b[0;32m    202\u001b[0m \u001b[38;5;28;01mdef\u001b[39;00m \u001b[38;5;21mforward\u001b[39m(\u001b[38;5;28mself\u001b[39m, \u001b[38;5;28minput\u001b[39m):\n\u001b[0;32m    203\u001b[0m     \u001b[38;5;28;01mfor\u001b[39;00m module \u001b[38;5;129;01min\u001b[39;00m \u001b[38;5;28mself\u001b[39m:\n\u001b[1;32m--> 204\u001b[0m         \u001b[38;5;28minput\u001b[39m \u001b[38;5;241m=\u001b[39m \u001b[43mmodule\u001b[49m\u001b[43m(\u001b[49m\u001b[38;5;28;43minput\u001b[39;49m\u001b[43m)\u001b[49m\n\u001b[0;32m    205\u001b[0m     \u001b[38;5;28;01mreturn\u001b[39;00m \u001b[38;5;28minput\u001b[39m\n",
      "File \u001b[1;32m~\\anaconda3\\lib\\site-packages\\torch\\nn\\modules\\module.py:1190\u001b[0m, in \u001b[0;36mModule._call_impl\u001b[1;34m(self, *input, **kwargs)\u001b[0m\n\u001b[0;32m   1186\u001b[0m \u001b[38;5;66;03m# If we don't have any hooks, we want to skip the rest of the logic in\u001b[39;00m\n\u001b[0;32m   1187\u001b[0m \u001b[38;5;66;03m# this function, and just call forward.\u001b[39;00m\n\u001b[0;32m   1188\u001b[0m \u001b[38;5;28;01mif\u001b[39;00m \u001b[38;5;129;01mnot\u001b[39;00m (\u001b[38;5;28mself\u001b[39m\u001b[38;5;241m.\u001b[39m_backward_hooks \u001b[38;5;129;01mor\u001b[39;00m \u001b[38;5;28mself\u001b[39m\u001b[38;5;241m.\u001b[39m_forward_hooks \u001b[38;5;129;01mor\u001b[39;00m \u001b[38;5;28mself\u001b[39m\u001b[38;5;241m.\u001b[39m_forward_pre_hooks \u001b[38;5;129;01mor\u001b[39;00m _global_backward_hooks\n\u001b[0;32m   1189\u001b[0m         \u001b[38;5;129;01mor\u001b[39;00m _global_forward_hooks \u001b[38;5;129;01mor\u001b[39;00m _global_forward_pre_hooks):\n\u001b[1;32m-> 1190\u001b[0m     \u001b[38;5;28;01mreturn\u001b[39;00m \u001b[43mforward_call\u001b[49m\u001b[43m(\u001b[49m\u001b[38;5;241;43m*\u001b[39;49m\u001b[38;5;28;43minput\u001b[39;49m\u001b[43m,\u001b[49m\u001b[43m \u001b[49m\u001b[38;5;241;43m*\u001b[39;49m\u001b[38;5;241;43m*\u001b[39;49m\u001b[43mkwargs\u001b[49m\u001b[43m)\u001b[49m\n\u001b[0;32m   1191\u001b[0m \u001b[38;5;66;03m# Do not call functions when jit is used\u001b[39;00m\n\u001b[0;32m   1192\u001b[0m full_backward_hooks, non_full_backward_hooks \u001b[38;5;241m=\u001b[39m [], []\n",
      "File \u001b[1;32m~\\anaconda3\\lib\\site-packages\\torch\\nn\\modules\\linear.py:114\u001b[0m, in \u001b[0;36mLinear.forward\u001b[1;34m(self, input)\u001b[0m\n\u001b[0;32m    113\u001b[0m \u001b[38;5;28;01mdef\u001b[39;00m \u001b[38;5;21mforward\u001b[39m(\u001b[38;5;28mself\u001b[39m, \u001b[38;5;28minput\u001b[39m: Tensor) \u001b[38;5;241m-\u001b[39m\u001b[38;5;241m>\u001b[39m Tensor:\n\u001b[1;32m--> 114\u001b[0m     \u001b[38;5;28;01mreturn\u001b[39;00m \u001b[43mF\u001b[49m\u001b[38;5;241;43m.\u001b[39;49m\u001b[43mlinear\u001b[49m\u001b[43m(\u001b[49m\u001b[38;5;28;43minput\u001b[39;49m\u001b[43m,\u001b[49m\u001b[43m \u001b[49m\u001b[38;5;28;43mself\u001b[39;49m\u001b[38;5;241;43m.\u001b[39;49m\u001b[43mweight\u001b[49m\u001b[43m,\u001b[49m\u001b[43m \u001b[49m\u001b[38;5;28;43mself\u001b[39;49m\u001b[38;5;241;43m.\u001b[39;49m\u001b[43mbias\u001b[49m\u001b[43m)\u001b[49m\n",
      "\u001b[1;31mRuntimeError\u001b[0m: mat1 and mat2 shapes cannot be multiplied (1x43008 and 4096x2)"
     ]
    }
   ],
   "source": [
    "x = torch.randn(1,1,220,370).to(device)\n",
    "model.to(device)(x)"
   ]
  },
  {
   "cell_type": "code",
   "execution_count": 461,
   "metadata": {},
   "outputs": [],
   "source": [
    "detection_model = get_detection_model(model).to(device)"
   ]
  },
  {
   "cell_type": "code",
   "execution_count": 445,
   "metadata": {},
   "outputs": [],
   "source": [
    "from skimage.io import imshow\n",
    "import matplotlib.pyplot as plt"
   ]
  },
  {
   "cell_type": "code",
   "execution_count": 482,
   "metadata": {},
   "outputs": [],
   "source": [
    "def get_detections(detection_model, dictionary_of_images):\n",
    "    \"\"\"\n",
    "    :param detection_model: trained fully convolutional detector model\n",
    "    :param dictionary_of_images: dictionary of images in format\n",
    "        {filename: ndarray}\n",
    "    :return: detections in format {filename: detections}. detections is a N x 5\n",
    "        array, where N is number of detections. Each detection is described\n",
    "        using 5 numbers: [row, col, n_rows, n_cols, confidence].\n",
    "    \"\"\"\n",
    "    detections_dict = {}\n",
    "    threshold = 5\n",
    "    \n",
    "    nrows, ncols = 6, 9\n",
    "    box_nrows, box_ncols = 40, 100\n",
    "    \n",
    "    for image_filepath, orig_image in list(dictionary_of_images.items()):\n",
    "        image = np.zeros((220, 370))\n",
    "        image[:orig_image.shape[0], :orig_image.shape[1]] = orig_image\n",
    "\n",
    "        torch_image = torch.from_numpy(image)\n",
    "        torch_image = torch_image.view(1, 1, *image.shape).double()\n",
    "        feature_map = detection_model(torch_image.to(device)).squeeze(dim=0).detach().cpu().numpy()\n",
    "\n",
    "        pos_feature_map = feature_map[1,:]\n",
    "        \n",
    "        #imshow(image)\n",
    "        #plt.show()\n",
    "        #imshow(pos_feature_map)\n",
    "        boxes_idxs = np.argsort(pos_feature_map.ravel())[-threshold:]\n",
    "\n",
    "        row_indices = boxes_idxs // ncols\n",
    "        col_indices = boxes_idxs % ncols\n",
    "        \n",
    "        row = row_indices * box_nrows\n",
    "        col = col_indices * box_ncols\n",
    "        \n",
    "        detections = np.stack((row, col, np.full(threshold, box_nrows), np.full(threshold, box_ncols), pos_feature_map[row_indices, col_indices]), axis=1)\n",
    "\n",
    "        detections_dict[image_filepath] = detections\n",
    "\n",
    "    return detections_dict"
   ]
  },
  {
   "cell_type": "code",
   "execution_count": 489,
   "metadata": {},
   "outputs": [
    {
     "name": "stdout",
     "output_type": "stream",
     "text": [
      "torch.Size([83, 142])\n"
     ]
    },
    {
     "data": {
      "image/png": "[encoded data removed]",
      "text/plain": [
       "<Figure size 640x480 with 1 Axes>"
      ]
     },
     "metadata": {},
     "output_type": "display_data"
    }
   ],
   "source": [
    "for img_name, data in list(images_detection.items())[5:]:\n",
    "    image = torch.from_numpy((255 * data[0]).astype(np.uint8))\n",
    "    print(image.shape)\n",
    "    bboxes = data[1]\n",
    "    bboxes_coords = boxes_to_coords(bboxes)\n",
    "    \n",
    "    predicted_bboxes = detections[img_name]\n",
    "    predicted_coords = boxes_to_coords(predicted_bboxes[:,:4])\n",
    "    \n",
    "    show(draw_bounding_boxes(image.view(1, *image.shape), torch.Tensor(predicted_coords), colors='red'))\n",
    "    break"
   ]
  },
  {
   "cell_type": "code",
   "execution_count": 483,
   "metadata": {},
   "outputs": [],
   "source": [
    "detections = get_detections(detection_model, images_detection_no_answer)"
   ]
  },
  {
   "cell_type": "code",
   "execution_count": 364,
   "metadata": {},
   "outputs": [
    {
     "name": "stdout",
     "output_type": "stream",
     "text": [
      "(137, 275)\n",
      "(2, 2, 4)\n"
     ]
    }
   ],
   "source": [
    "def get_detections2(detection_model, dictionary_of_images):\n",
    "    \"\"\"\n",
    "    :param detection_model: trained fully convolutional detector model\n",
    "    :param dictionary_of_images: dictionary of images in format\n",
    "        {filename: ndarray}\n",
    "    :return: detections in format {filename: detections}. detections is a N x 5\n",
    "        array, where N is number of detections. Each detection is described\n",
    "        using 5 numbers: [row, col, n_rows, n_cols, confidence].\n",
    "    \"\"\"\n",
    "    detections_dict = {}\n",
    "    threshold = 3\n",
    "    n_rows, n_cols = 7, 12\n",
    "\n",
    "    width = 370\n",
    "    height = 220\n",
    "    \n",
    "    box_height = height // n_rows\n",
    "    box_width = width // n_cols\n",
    "    \n",
    "    \n",
    "    for image_filepath, orig_image in list(dictionary_of_images.items())[1:]:\n",
    "        #image = np.zeros((height, width))\n",
    "        #image[:orig_image.shape[0], :orig_image.shape[1]] = orig_image\n",
    "        print(orig_image.shape)\n",
    "        orig_image = np.random.randn(40, 100)\n",
    "        torch_image = torch.from_numpy(orig_image)\n",
    "        torch_image = torch_image.view(1, 1, *orig_image.shape).double()\n",
    "        feature_map = detection_model(torch_image).squeeze(dim=0).detach().numpy()\n",
    "        \n",
    "        print(feature_map.shape)\n",
    "        break\n",
    "\n",
    "model = model.double()\n",
    "get_detections2(detection_model, images_detection_no_answer)"
   ]
  },
  {
   "cell_type": "code",
   "execution_count": 294,
   "metadata": {},
   "outputs": [],
   "source": [
    "from torchvision.utils import draw_bounding_boxes\n",
    "import torchvision.transforms.functional as F"
   ]
  },
  {
   "cell_type": "code",
   "execution_count": 295,
   "metadata": {},
   "outputs": [],
   "source": [
    "def show(imgs):\n",
    "    if not isinstance(imgs, list):\n",
    "        imgs = [imgs]\n",
    "    fix, axs = plt.subplots(ncols=len(imgs), squeeze=False)\n",
    "    for i, img in enumerate(imgs):\n",
    "        img = img.detach()\n",
    "        img = F.to_pil_image(img)\n",
    "        axs[0, i].imshow(np.asarray(img))\n",
    "        axs[0, i].set(xticklabels=[], yticklabels=[], xticks=[], yticks=[])"
   ]
  },
  {
   "cell_type": "code",
   "execution_count": 330,
   "metadata": {},
   "outputs": [],
   "source": [
    "def boxes_to_coords(bboxes):\n",
    "    bboxes_coords = []\n",
    "\n",
    "    for box in bboxes:\n",
    "        row, col, nrows, ncols = box\n",
    "        \n",
    "        xmin = col\n",
    "        xmax = xmin + ncols\n",
    "        \n",
    "        ymin = row\n",
    "        ymax = ymin + nrows\n",
    "        \n",
    "        bboxes_coords.append([xmin, ymin, xmax, ymax])\n",
    "    \n",
    "    return bboxes_coords"
   ]
  },
  {
   "cell_type": "code",
   "execution_count": 479,
   "metadata": {},
   "outputs": [
    {
     "name": "stdout",
     "output_type": "stream",
     "text": [
      "torch.Size([137, 275])\n"
     ]
    },
    {
     "ename": "KeyError",
     "evalue": "'test-1.png'",
     "output_type": "error",
     "traceback": [
      "\u001b[1;31m---------------------------------------------------------------------------\u001b[0m",
      "\u001b[1;31mKeyError\u001b[0m                                  Traceback (most recent call last)",
      "Input \u001b[1;32mIn [479]\u001b[0m, in \u001b[0;36m<cell line: 3>\u001b[1;34m()\u001b[0m\n\u001b[0;32m      6\u001b[0m bboxes \u001b[38;5;241m=\u001b[39m data[\u001b[38;5;241m1\u001b[39m]\n\u001b[0;32m      7\u001b[0m bboxes_coords \u001b[38;5;241m=\u001b[39m boxes_to_coords(bboxes)\n\u001b[1;32m----> 9\u001b[0m predicted_bboxes \u001b[38;5;241m=\u001b[39m \u001b[43mdetections\u001b[49m\u001b[43m[\u001b[49m\u001b[43mimg_name\u001b[49m\u001b[43m]\u001b[49m\n\u001b[0;32m     10\u001b[0m predicted_coords \u001b[38;5;241m=\u001b[39m boxes_to_coords(predicted_bboxes[:,:\u001b[38;5;241m4\u001b[39m])\n\u001b[0;32m     12\u001b[0m show(draw_bounding_boxes(image\u001b[38;5;241m.\u001b[39mview(\u001b[38;5;241m1\u001b[39m, \u001b[38;5;241m*\u001b[39mimage\u001b[38;5;241m.\u001b[39mshape), torch\u001b[38;5;241m.\u001b[39mTensor(predicted_coords), colors\u001b[38;5;241m=\u001b[39m\u001b[38;5;124m'\u001b[39m\u001b[38;5;124mred\u001b[39m\u001b[38;5;124m'\u001b[39m))\n",
      "\u001b[1;31mKeyError\u001b[0m: 'test-1.png'"
     ]
    }
   ],
   "source": [
    "#draw_bounding_boxes(image, boxes, labels, colors=colors, width=5)\n",
    "\n",
    "for img_name, data in list(images_detection.items())[1:]:\n",
    "    image = torch.from_numpy((255 * data[0]).astype(np.uint8))\n",
    "    print(image.shape)\n",
    "    bboxes = data[1]\n",
    "    bboxes_coords = boxes_to_coords(bboxes)\n",
    "    \n",
    "    predicted_bboxes = detections[img_name]\n",
    "    predicted_coords = boxes_to_coords(predicted_bboxes[:,:4])\n",
    "    \n",
    "    show(draw_bounding_boxes(image.view(1, *image.shape), torch.Tensor(predicted_coords), colors='red'))\n",
    "    break"
   ]
  },
  {
   "cell_type": "code",
   "execution_count": null,
   "metadata": {},
   "outputs": [],
   "source": []
  }
 ],
 "metadata": {
  "kernelspec": {
   "display_name": "Python 3 (ipykernel)",
   "language": "python",
   "name": "python3"
  },
  "language_info": {
   "codemirror_mode": {
    "name": "ipython",
    "version": 3
   },
   "file_extension": ".py",
   "mimetype": "text/x-python",
   "name": "python",
   "nbconvert_exporter": "python",
   "pygments_lexer": "ipython3",
   "version": "3.8.5"
  }
 },
 "nbformat": 4,
 "nbformat_minor": 1
}
